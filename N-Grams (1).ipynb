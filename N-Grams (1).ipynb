{
 "cells": [
  {
   "cell_type": "code",
   "execution_count": 1,
   "id": "dc787e9e-bef8-46ae-951d-637ca0bc525b",
   "metadata": {},
   "outputs": [
    {
     "name": "stderr",
     "output_type": "stream",
     "text": [
      "[nltk_data] Downloading package words to\n",
      "[nltk_data]     C:\\Users\\VENKATESH\\AppData\\Roaming\\nltk_data...\n",
      "[nltk_data]   Package words is already up-to-date!\n"
     ]
    },
    {
     "name": "stdin",
     "output_type": "stream",
     "text": [
      "Enter words:  hellw\n"
     ]
    },
    {
     "name": "stdout",
     "output_type": "stream",
     "text": [
      "hell\n"
     ]
    }
   ],
   "source": [
    "import nltk\n",
    "from nltk.metrics.distance import jaccard_distance\n",
    "from nltk.util import ngrams\n",
    "nltk.download('words')\n",
    "from nltk.corpus import words\n",
    "\n",
    "crt_wrds = words.words()\n",
    "\n",
    "def auto_crt(wrd):\n",
    "    temp = [(jaccard_distance(set(ngrams(wrd, 2)), set(ngrams(w, 2))), w) for w in crt_wrds if w[0] == wrd[0]]\n",
    "    return sorted(temp, key=lambda val: val[0])[0][1]\n",
    "\n",
    "in_wrds = input(\"Enter words: \").split(\",\")\n",
    "for wrd in in_wrds:\n",
    "    print(auto_crt(wrd.lower()))\n"
   ]
  },
  {
   "cell_type": "code",
   "execution_count": null,
   "id": "decc9f04-c05f-408b-b50e-518b773e5d09",
   "metadata": {},
   "outputs": [],
   "source": []
  }
 ],
 "metadata": {
  "kernelspec": {
   "display_name": "Python 3 (ipykernel)",
   "language": "python",
   "name": "python3"
  },
  "language_info": {
   "codemirror_mode": {
    "name": "ipython",
    "version": 3
   },
   "file_extension": ".py",
   "mimetype": "text/x-python",
   "name": "python",
   "nbconvert_exporter": "python",
   "pygments_lexer": "ipython3",
   "version": "3.11.7"
  }
 },
 "nbformat": 4,
 "nbformat_minor": 5
}
